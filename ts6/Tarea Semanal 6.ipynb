{
 "cells": [
  {
   "cell_type": "markdown",
   "id": "e30f74ee-92d7-4cd1-8722-eaec20b04f3a",
   "metadata": {},
   "source": [
    "<img src=\"./logo_UTN.svg\" align=\"right\" width=\"150\" /> \n",
    "\n",
    "#### Teoría de Circuitos II\n",
    "\n",
    "# Tarea Semanal 6\n",
    "\n",
    "*Roman Ordoñez*"
   ]
  },
  {
   "cell_type": "markdown",
   "id": "481fdcc0-cfbe-4c3e-b5fd-b3ccb6f85ddd",
   "metadata": {},
   "source": [
    "### Consignas\n",
    "1. Obtenga **un solo** juego de parametros para cada caso: *Z, Y o T*\n",
    "2. Aplicar la transformacion de parametros para hallar los *Z, Y* si lo obtenido fue *T* y viceversa"
   ]
  },
  {
   "cell_type": "markdown",
   "id": "0bd328f2-47c2-497e-86fc-2e5f635d74f3",
   "metadata": {},
   "source": [
    "<img src=\"ts6_1.png\" width=\"800\">"
   ]
  },
  {
   "cell_type": "markdown",
   "id": "b26be292-45a2-43ab-95c5-83f79eda0892",
   "metadata": {},
   "source": [
    "Aclaracion antes de empezar la resolucion: Lo resolvi a cada circuito por separado, es decir, primero resolvi ambas consignas para la red Tee, luego para la red $\\pi$ y asi sucesivamente"
   ]
  },
  {
   "cell_type": "markdown",
   "id": "37c34df0-4ccd-485c-9c5f-78cfd0acd4f3",
   "metadata": {},
   "source": [
    "### Circuito a)"
   ]
  },
  {
   "cell_type": "markdown",
   "id": "53e7bb67-2f53-40d6-a985-a8a6323e222c",
   "metadata": {},
   "source": [
    "<img src=\"ts6_2.jpg\" width = \"500\">"
   ]
  },
  {
   "cell_type": "markdown",
   "id": "0578ebf2-e0b6-4394-acac-2c93351a130d",
   "metadata": {},
   "source": [
    "<img src=\"ts6_3.jpg\" widht=\"500\">"
   ]
  },
  {
   "cell_type": "markdown",
   "id": "1eba98e2-ce11-403d-a876-40907f0a3ecd",
   "metadata": {},
   "source": [
    "### Circuito b)"
   ]
  },
  {
   "cell_type": "markdown",
   "id": "a73435c9-64e6-4c0c-a8fb-06a1668c007d",
   "metadata": {},
   "source": [
    "<img src=\"ts6_4.jpg\" widht=\"500\">"
   ]
  },
  {
   "cell_type": "markdown",
   "id": "f2ae5117-5229-4640-9c5c-92ec6e8a63ff",
   "metadata": {},
   "source": [
    "<img src=\"ts6_5.jpg\" widht=\"500\">"
   ]
  },
  {
   "cell_type": "markdown",
   "id": "8f7cf9ec-046c-4ae9-b7b9-f7fcc7185afd",
   "metadata": {},
   "source": [
    "### Circuito c)"
   ]
  },
  {
   "cell_type": "markdown",
   "id": "d98ba03c-a56f-49f5-8ed9-e5a9817d6875",
   "metadata": {},
   "source": [
    "<img src=\"ts6_6.jpg\" widht=\"400\">"
   ]
  },
  {
   "cell_type": "markdown",
   "id": "d0054184-29ff-4b17-94b6-d75d4214ca57",
   "metadata": {},
   "source": [
    "### Circuito d)"
   ]
  },
  {
   "cell_type": "markdown",
   "id": "b9ddc6ec-5a97-46f9-92ae-69078459b397",
   "metadata": {},
   "source": [
    "<img src=\"ts6_7.jpg\" widht=\"400\">"
   ]
  },
  {
   "cell_type": "markdown",
   "id": "55c99cc1-6972-4e2e-ba66-48db03a3e94d",
   "metadata": {},
   "source": [
    "### Circuito e)"
   ]
  },
  {
   "cell_type": "markdown",
   "id": "7287de3a-29cd-43ac-9692-7aae6351ce1b",
   "metadata": {},
   "source": [
    "<img src=\"ts6_8.jpg\" widht=\"400\">"
   ]
  },
  {
   "cell_type": "markdown",
   "id": "5846c9be-6b13-4df4-8466-05cf2d6cc6ac",
   "metadata": {},
   "source": [
    "<img src=\"ts6_9.jpg\" widht=\"400\">"
   ]
  },
  {
   "cell_type": "markdown",
   "id": "72c9b24b-6ea1-4a2a-9173-f18cb8c87847",
   "metadata": {},
   "source": [
    "### Circuito f)"
   ]
  },
  {
   "cell_type": "markdown",
   "id": "6894433f-0998-44fd-b37f-1eddb3f0315f",
   "metadata": {},
   "source": [
    "<img src=\"ts6_10.jpg\" widht=\"400\">"
   ]
  }
 ],
 "metadata": {
  "kernelspec": {
   "display_name": "Python 3 (ipykernel)",
   "language": "python",
   "name": "python3"
  },
  "language_info": {
   "codemirror_mode": {
    "name": "ipython",
    "version": 3
   },
   "file_extension": ".py",
   "mimetype": "text/x-python",
   "name": "python",
   "nbconvert_exporter": "python",
   "pygments_lexer": "ipython3",
   "version": "3.12.3"
  }
 },
 "nbformat": 4,
 "nbformat_minor": 5
}
