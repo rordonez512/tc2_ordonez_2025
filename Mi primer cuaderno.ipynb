{
 "cells": [
  {
   "cell_type": "code",
   "execution_count": 3,
   "id": "1ec08b40-a13d-4da3-b6d4-669589980637",
   "metadata": {},
   "outputs": [
    {
     "name": "stdout",
     "output_type": "stream",
     "text": [
      "Este es el bloque 1\n",
      "Este es el bloque 2\n",
      "variable x:  10\n"
     ]
    }
   ],
   "source": [
    "print(\"Este es el bloque 1\")\n",
    "x = 10\n",
    "\n",
    "print(\"Este es el bloque 2\")\n",
    "print(\"variable x: \",x)"
   ]
  },
  {
   "cell_type": "markdown",
   "id": "1f1d60ba-99d8-46fc-b6a1-4088ab16980e",
   "metadata": {},
   "source": [
    "# Titulo\n",
    "## Titulo nro 2\n",
    "### Titulo nro 3\n",
    "\n",
    "Texto normal:\n",
    "- bullet1\n",
    "- bullet2\n",
    "- texto en *cursiva*\n",
    "- texto en **negrita**\n",
    "\n",
    "![Imagen](https://upload.wikimedia.org/wikipedia/commons/thumb/b/b4/Lionel-Messi-Argentina-2022-FIFA-World-Cup_%28cropped%29.jpg/250px-Lionel-Messi-Argentina-2022-FIFA-World-Cup_%28cropped%29.jpg)"
   ]
  },
  {
   "cell_type": "code",
   "execution_count": null,
   "id": "7742d56e-678e-4aa2-bfb6-ed2d0be5968b",
   "metadata": {},
   "outputs": [],
   "source": []
  }
 ],
 "metadata": {
  "kernelspec": {
   "display_name": "Python 3 (ipykernel)",
   "language": "python",
   "name": "python3"
  },
  "language_info": {
   "codemirror_mode": {
    "name": "ipython",
    "version": 3
   },
   "file_extension": ".py",
   "mimetype": "text/x-python",
   "name": "python",
   "nbconvert_exporter": "python",
   "pygments_lexer": "ipython3",
   "version": "3.12.3"
  }
 },
 "nbformat": 4,
 "nbformat_minor": 5
}
