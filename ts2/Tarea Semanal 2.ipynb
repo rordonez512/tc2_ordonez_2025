{
 "cells": [
  {
   "cell_type": "markdown",
   "id": "a02d30f7-8696-425c-a10d-feb7234c4d53",
   "metadata": {},
   "source": [
    "<img src=\"./logo_UTN.svg\" align=\"right\" width=\"150\" /> \n",
    "\n",
    "#### Teoría de Circuitos II\n",
    "\n",
    "# Tarea Semanal 2\n",
    "\n",
    "*Roman Ordoñez*\n"
   ]
  },
  {
   "cell_type": "markdown",
   "id": "25bbd96c-02be-4f7a-a441-d25c9f2b2f6a",
   "metadata": {},
   "source": [
    "### Consignas\n",
    "1. Hallar la transferencia $T(s)=\\frac{Vo}{Vi}$ en funcion de $\\omega_0$ y $Q$\n",
    "2. Hallar los parametros $\\omega_0$ y $Q$ y $k$\n",
    "3. Como podria obtener un circuito *pasabanda* con los mismos componentes originales y con que parametros quedaria diseñado (Ver ejemplo **4.6** en Schaumann, **pag. 159**)"
   ]
  },
  {
   "cell_type": "markdown",
   "id": "49d79368-8d66-40df-8eb8-e419dd1ef6cb",
   "metadata": {},
   "source": [
    "### Punto 1"
   ]
  },
  {
   "cell_type": "markdown",
   "id": "b36f9b91-b3e0-4d0c-a097-59261f07bce9",
   "metadata": {},
   "source": [
    "Para la resolucion del mismo utilice las leyes de Kirchhoff, especialmente la relacionada a corrientes y llegue a la transferencia"
   ]
  },
  {
   "cell_type": "markdown",
   "id": "f403af56-78f0-43c4-b5de-fe5467230a40",
   "metadata": {},
   "source": [
    "<img src=\"ts2_1.jpeg\" width=\"500\">"
   ]
  },
  {
   "cell_type": "markdown",
   "id": "49b4ab0a-135b-4aa5-b3f2-7548661b4da3",
   "metadata": {},
   "source": [
    "Queda demostrado que la transferencia sera:\n",
    "\\begin{equation}\n",
    "T(s) = (-\\frac{R_3}{R_1})*\\frac{\\frac{1}{C²R_3²}}{s²+s\\frac{1}{CR_2}+\\frac{1}{C²R_3²}}\n",
    "\\end{equation}\n",
    "Lo que nos deja ver que el circuito sera un *Filtro pasa bajos* con una ganancia"
   ]
  },
  {
   "cell_type": "markdown",
   "id": "06a8aebf-5b64-481c-a168-9b3251891017",
   "metadata": {},
   "source": [
    "### Punto 2"
   ]
  },
  {
   "cell_type": "markdown",
   "id": "ac76c0cb-8695-4976-adc5-9e652f54b1b9",
   "metadata": {},
   "source": [
    "Para dejarlo todo en funcion de $\\omega_0$ y $Q$, se conoce la forma de la funcion transferencia de pasa bajos de 2do orden y comparndolo con la obtenida en el *punto 1* se pueden obtener los parametros deseados"
   ]
  },
  {
   "cell_type": "markdown",
   "id": "41a1057d-4cbd-46c6-b559-61b59c526d4f",
   "metadata": {},
   "source": [
    "<img src=\"ts2_2.jpeg\" width=\"500\">"
   ]
  },
  {
   "cell_type": "markdown",
   "id": "a063cb71-2dab-4556-876a-9ac62cca68a3",
   "metadata": {},
   "source": [
    "Entonces nos quedan los parametros:  \n",
    "$\\omega_0=\\frac{1}{CR_3}$  \n",
    "$Q=\\frac{R_2}{R_3}$  \n",
    "$K=-\\frac{R_3}{R_1}$"
   ]
  },
  {
   "cell_type": "markdown",
   "id": "db3632c8-10d5-41bf-8c9d-a1271cc583f4",
   "metadata": {},
   "source": [
    "### Punto 3"
   ]
  },
  {
   "cell_type": "markdown",
   "id": "dca73f61-f00c-4455-9300-376bb4437d95",
   "metadata": {},
   "source": [
    "Para el caso de buscar un **Filtro Pasa Banda** lo que se deberia buscar es tomar como salida del circuito el nodo denominado como *Va* en el *punto 1*. No se deberia de alterar los componentes del circuito ni si entrada. El unico detalle que se puede observar en el ejemplo del Schaumann es que $R_1=R_2$ por lo que $\\frac{1}{K}=Q$"
   ]
  },
  {
   "cell_type": "code",
   "execution_count": null,
   "id": "80cef619-23a7-4592-b03c-a29e90c9a2fb",
   "metadata": {},
   "outputs": [],
   "source": []
  }
 ],
 "metadata": {
  "kernelspec": {
   "display_name": "Python 3 (ipykernel)",
   "language": "python",
   "name": "python3"
  },
  "language_info": {
   "codemirror_mode": {
    "name": "ipython",
    "version": 3
   },
   "file_extension": ".py",
   "mimetype": "text/x-python",
   "name": "python",
   "nbconvert_exporter": "python",
   "pygments_lexer": "ipython3",
   "version": "3.12.3"
  }
 },
 "nbformat": 4,
 "nbformat_minor": 5
}
