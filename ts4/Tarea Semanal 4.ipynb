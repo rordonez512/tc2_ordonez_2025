{
 "cells": [
  {
   "cell_type": "markdown",
   "id": "917adc7c-e7ba-4fc7-aa21-4d99cf021a51",
   "metadata": {},
   "source": [
    "<img src=\"./logo_UTN.svg\" align=\"right\" width=\"150\" /> \n",
    "\n",
    "#### Teoría de Circuitos II\n",
    "\n",
    "# Tarea Semanal 4\n",
    "\n",
    "*Roman Ordoñez*\n"
   ]
  },
  {
   "cell_type": "markdown",
   "id": "a4960c13-2a31-4d77-9377-09d314291ae1",
   "metadata": {},
   "source": [
    "### Consignas\n",
    "1. Utilizando el metodo de *Stroch (pag. 403 del Schaumann)* obtener la *T(s)* Bessel de orden **N = 2, 3 y 4**\n",
    "2. Elegir la T(s) con el *minimo orden* que cumple con **$\\alpha$max = 1 dB**\n",
    "3. Evaluar el Retardo de Grupo **D(2.5)**. Expresar en forma *porcentual [%]* el error o desviamiento respecto a **D(0)**\n",
    "4. Sintetizar el circuito *normalizado* con estructuras *Sallen-Key con K = 1 (real. negativa unitaria)*"
   ]
  },
  {
   "cell_type": "markdown",
   "id": "84052b35-2c49-4683-9206-5ad33e022e0f",
   "metadata": {},
   "source": [
    "### Punto 1"
   ]
  },
  {
   "cell_type": "markdown",
   "id": "da67a659-d39e-4375-9e94-da33d9601d8b",
   "metadata": {},
   "source": [
    "<img src=\"ts4_1.jpg\" width=\"500\">"
   ]
  },
  {
   "cell_type": "markdown",
   "id": "9b9bc368-bdfd-4e42-bdd5-387a46611470",
   "metadata": {},
   "source": [
    "### Punto 2"
   ]
  },
  {
   "cell_type": "markdown",
   "id": "6c70281d-d9c0-40c3-8870-bee41aeb28d4",
   "metadata": {},
   "source": [
    "<img src=\"ts4_2.jpg\" width=\"500\">"
   ]
  },
  {
   "cell_type": "markdown",
   "id": "240fb9f5-3d0f-4279-8dc3-5e3db77ed728",
   "metadata": {},
   "source": [
    "Como bien aclaro en el comentario en la resolucion, ya con un orden **n = 3** la condicion de atenuacion se cumple pero el resultado calculado es un tanto aproximado al limite por eso y para que el ejercicio quedara completo, reolvi tambien para **n = 4**"
   ]
  },
  {
   "cell_type": "markdown",
   "id": "eed56e5b-2eb6-4238-bd8e-165ad3e58947",
   "metadata": {},
   "source": [
    "### Punto 3"
   ]
  },
  {
   "cell_type": "markdown",
   "id": "46b68d06-9d62-465b-a38e-f57d267e000d",
   "metadata": {},
   "source": [
    "<img src=\"ts4_3.jpg\" width=\"500\">"
   ]
  },
  {
   "cell_type": "markdown",
   "id": "ae35023e-6ce1-4e6d-9936-dafce92fccef",
   "metadata": {},
   "source": [
    "### Punto 4"
   ]
  },
  {
   "cell_type": "markdown",
   "id": "ae0fed3a-0242-43da-b5c4-1651f051dd99",
   "metadata": {},
   "source": [
    "<img src=\"ts4_4.jpg\" width=\"500\">"
   ]
  },
  {
   "cell_type": "markdown",
   "id": "942bc9e4-ea11-42bd-aa0d-f2973137fd3d",
   "metadata": {},
   "source": [
    "Con la transferencia *T(s)* hallada se puede observar que queda un *Filtro Pasa Bajos de 2do Orden* con una ganancia unitaria. Al tener 4 grados de libertad con los componentes, segui el desarrollo del mismo y busque la normalizacion tanto en frecuencia como en impedancia."
   ]
  },
  {
   "cell_type": "markdown",
   "id": "930ae815-325b-4471-ad14-19ebd6c92aee",
   "metadata": {},
   "source": [
    "<img src=\"ts4_5.jpg\" width=\"500\">"
   ]
  }
 ],
 "metadata": {
  "kernelspec": {
   "display_name": "Python 3 (ipykernel)",
   "language": "python",
   "name": "python3"
  },
  "language_info": {
   "codemirror_mode": {
    "name": "ipython",
    "version": 3
   },
   "file_extension": ".py",
   "mimetype": "text/x-python",
   "name": "python",
   "nbconvert_exporter": "python",
   "pygments_lexer": "ipython3",
   "version": "3.12.3"
  }
 },
 "nbformat": 4,
 "nbformat_minor": 5
}
